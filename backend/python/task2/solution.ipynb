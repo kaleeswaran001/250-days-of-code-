{
  "nbformat": 4,
  "nbformat_minor": 0,
  "metadata": {
    "colab": {
      "provenance": []
    },
    "kernelspec": {
      "name": "python3",
      "display_name": "Python 3"
    },
    "language_info": {
      "name": "python"
    }
  },
  "cells": [
    {
      "cell_type": "markdown",
      "source": [
        "1)write a program to check whether a number entered by user is even or odd.\n",
        "\n",
        "2)write a program to display \"Hello\" if a number entered by user is a multiple of five otherwise print \"Bye\".\n",
        "\n",
        "3)write a program to calculate the electricity bill(accept number of unit from user) according to the following criteria:\n",
        "\n",
        "unit                  price\n",
        "\n",
        "1st 100 units         no charge\n",
        "next 100 units        rs 5 per unit\n",
        "after 200 units       rs 10 per unit\n",
        "\n",
        "(for eg:if input unit is 350 than total bill amount is rs2000)\n",
        "\n",
        "4)write a python program to accept percentage  from the user and display the grade according to the following criteria\n",
        "\n",
        "marks                     grades\n",
        ">90                         A\n",
        ">80 and <=90                B\n",
        ">=60 and <=80               C\n",
        "below 60                    D\n",
        "\n",
        "5)write a python program to accept a number from 1 to 7 and display the name of the day like 1 for sunday,2 for Monday and so on.\n",
        "\n",
        "6)write a program to accept a number from 1 to 12 and display name of the month and days in that month like 1 for January and number of days is 31 and so on.\n",
        "\n",
        "7)write a program to check whether a number(accepted from user) positive or negative or zero\n",
        "\n",
        "8)Accept the temperature in degree Celsius of water and check whether it is boiling or not(boiling point of water is 100deg c)\n",
        "\n",
        "9)Accept the following the user and calculate the percentage of class attended:\n",
        "a)total number of working days  30\n",
        "b)total number of days for absent 25\n",
        "\n",
        "after calculating percentage show that, if the percentage is less than 75 than student will not be able to sit in exam.\n",
        "\n",
        "\n",
        "10)A company decided to give bonus to employee according to following criteria:\n",
        "\n",
        "time period of service          bonus\n",
        "more than 10 years              10%\n",
        ">=6 and <=10                    8%\n",
        "less than 6 years               5%\n",
        "\n",
        "ask user for their salary and years of service and print the net bonus amount.\n",
        "\n",
        "\n",
        "11)Accept the number of days from the user and calculate the charge for library according to following:\n",
        "till five days: Rs 2/day.\n",
        "six to ten days: Rs 3/day\n",
        "11 to 15 days: Rs 4/day\n",
        "after 15 days: Rs 5/day\n",
        "\n",
        "\n",
        "12)write a program to accept two numbers and mathematical operator and perform operation accordingly.\n",
        "\n",
        "sample output:\n",
        "enter first number:7\n",
        "enter second number:7\n",
        "enter operator: +\n",
        "\n",
        "13)Accept the age of 3 people and display the oldest one.\n",
        "\n",
        "14)write a program to accept the cost price of a bike and display the road tax to be paid according to the following criteria:\n",
        "\n",
        "cost price(in Rs)     Tax\n",
        ">100000               15%\n",
        ">50000 and <=100000   10%\n",
        "<=50000               5%\n",
        "\n",
        "\n",
        "15)Accept three sides of triangle and check whether the triangle is possible or not.\n",
        "(triangle is possible only when sum of any two sides is greater than 3rd side)"
      ],
      "metadata": {
        "id": "0U2tjbWruTYL"
      }
    },
    {
      "cell_type": "code",
      "source": [
        "num = int(input(\"Enter a number: \"))\n",
        "if num % 2 == 0:\n",
        "    print(\"Even\")\n",
        "else:\n",
        "    print(\"Odd\")"
      ],
      "metadata": {
        "colab": {
          "base_uri": "https://localhost:8080/"
        },
        "id": "gQQi-2j2ubV3",
        "outputId": "ba6fad1d-0e00-4eaa-f41b-4bc38a2868f7"
      },
      "execution_count": null,
      "outputs": [
        {
          "output_type": "stream",
          "name": "stdout",
          "text": [
            "Enter a number: 1\n",
            "Odd\n"
          ]
        }
      ]
    },
    {
      "cell_type": "code",
      "source": [
        "num = int(input(\"Enter a number: \"))\n",
        "if num % 5 == 0:\n",
        "    print(\"Hello\")\n",
        "else:\n",
        "    print(\"Bye\")"
      ],
      "metadata": {
        "colab": {
          "base_uri": "https://localhost:8080/"
        },
        "id": "xFCgbiQAurZQ",
        "outputId": "cf60f842-da87-4dd9-bc69-5a651d6a5264"
      },
      "execution_count": null,
      "outputs": [
        {
          "output_type": "stream",
          "name": "stdout",
          "text": [
            "Enter a number: 5\n",
            "Hello\n"
          ]
        }
      ]
    },
    {
      "cell_type": "code",
      "source": [
        "units = int(input(\"Enter number of units: \"))\n",
        "bill = 0\n",
        "if units <= 100:\n",
        "    bill = 0\n",
        "elif units <= 200:\n",
        "    bill = (units - 100) * 5\n",
        "else:\n",
        "    bill = (100 * 5) + (units - 200) * 10\n",
        "print(f\"Total bill amount is Rs {bill}\")"
      ],
      "metadata": {
        "colab": {
          "base_uri": "https://localhost:8080/"
        },
        "id": "eDjb26U3u629",
        "outputId": "b82c8e6d-4000-4149-b34d-fbb58857b438"
      },
      "execution_count": null,
      "outputs": [
        {
          "output_type": "stream",
          "name": "stdout",
          "text": [
            "Enter number of units: 23456\n",
            "Total bill amount is Rs 233060\n"
          ]
        }
      ]
    },
    {
      "cell_type": "code",
      "source": [
        "percentage = float(input(\"Enter percentage: \"))\n",
        "if percentage > 90:\n",
        "    print(\"Grade A\")\n",
        "elif percentage > 80:\n",
        "    print(\"Grade B\")\n",
        "elif percentage >= 60:\n",
        "    print(\"Grade C\")\n",
        "else:\n",
        "    print(\"Grade D\")"
      ],
      "metadata": {
        "colab": {
          "base_uri": "https://localhost:8080/"
        },
        "id": "K8h03RFpu9em",
        "outputId": "47df1120-97ca-47ae-e72c-8f587ef5b691"
      },
      "execution_count": null,
      "outputs": [
        {
          "output_type": "stream",
          "name": "stdout",
          "text": [
            "Enter percentage: 52\n",
            "Grade D\n"
          ]
        }
      ]
    },
    {
      "cell_type": "code",
      "source": [
        "num = int(input(\"Enter a number (1-7): \"))\n",
        "days = {1: \"Sunday\", 2: \"Monday\", 3: \"Tuesday\", 4: \"Wednesday\",\n",
        "        5: \"Thursday\", 6: \"Friday\", 7: \"Saturday\"}\n",
        "if num in days:\n",
        "    print(days[num])\n",
        "else:\n",
        "    print(\"Invalid input\")"
      ],
      "metadata": {
        "colab": {
          "base_uri": "https://localhost:8080/"
        },
        "id": "wNwoBzRQu91T",
        "outputId": "7ce8b4e5-eb8b-4ac8-ccfe-740fc6dcb4eb"
      },
      "execution_count": null,
      "outputs": [
        {
          "output_type": "stream",
          "name": "stdout",
          "text": [
            "Enter a number (1-7): 1\n",
            "Sunday\n"
          ]
        }
      ]
    },
    {
      "cell_type": "code",
      "source": [
        "num = int(input(\"Enter a number (1-12): \"))\n",
        "months = {\n",
        "    1: (\"January\", 31), 2: (\"February\", 28), 3: (\"March\", 31),\n",
        "    4: (\"April\", 30), 5: (\"May\", 31), 6: (\"June\", 30),\n",
        "    7: (\"July\", 31), 8: (\"August\", 31), 9: (\"September\", 30),\n",
        "    10: (\"October\", 31), 11: (\"November\", 30), 12: (\"December\", 31)\n",
        "}\n",
        "if num in months:\n",
        "    print(f\"Month: {months[num][0]}, Days: {months[num][1]}\")\n",
        "else:\n",
        "    print(\"Invalid input\")"
      ],
      "metadata": {
        "colab": {
          "base_uri": "https://localhost:8080/"
        },
        "id": "SKsARdoSu-dx",
        "outputId": "ede6b785-1eae-4ee0-b95a-29e0b019da68"
      },
      "execution_count": null,
      "outputs": [
        {
          "output_type": "stream",
          "name": "stdout",
          "text": [
            "Enter a number (1-12): 12\n",
            "Month: December, Days: 31\n"
          ]
        }
      ]
    },
    {
      "cell_type": "code",
      "source": [
        "num = float(input(\"Enter a number: \"))\n",
        "if num > 0:\n",
        "    print(\"Positive\")\n",
        "elif num < 0:\n",
        "    print(\"Negative\")\n",
        "else:\n",
        "    print(\"Zero\")"
      ],
      "metadata": {
        "colab": {
          "base_uri": "https://localhost:8080/"
        },
        "id": "VzBibV3zvRtU",
        "outputId": "0114b444-cdd9-4cac-b70f-402a59a0d400"
      },
      "execution_count": null,
      "outputs": [
        {
          "output_type": "stream",
          "name": "stdout",
          "text": [
            "Enter a number: -2\n",
            "Negative\n"
          ]
        }
      ]
    },
    {
      "cell_type": "code",
      "source": [
        "temp = float(input(\"Enter temperature in Celsius: \"))\n",
        "if temp >= 100:\n",
        "    print(\"Water is boiling\")\n",
        "else:\n",
        "    print(\"Water is not boiling\")"
      ],
      "metadata": {
        "colab": {
          "base_uri": "https://localhost:8080/"
        },
        "id": "LSmGTihovVCP",
        "outputId": "a1099f27-1d53-44ba-f062-d8b02e79497c"
      },
      "execution_count": null,
      "outputs": [
        {
          "output_type": "stream",
          "name": "stdout",
          "text": [
            "Enter temperature in Celsius: 200\n",
            "Water is boiling\n"
          ]
        }
      ]
    },
    {
      "cell_type": "code",
      "source": [
        "working_days = 30\n",
        "absent_days = 25\n",
        "present_days = working_days - absent_days\n",
        "percentage = (present_days / working_days) * 100\n",
        "print(f\"Attendance percentage: {percentage}%\")\n",
        "if percentage < 75:\n",
        "    print(\"Student cannot sit in exam\")\n",
        "else:\n",
        "    print(\"Student can sit in exam\")"
      ],
      "metadata": {
        "colab": {
          "base_uri": "https://localhost:8080/"
        },
        "id": "ggMCipstvZ3x",
        "outputId": "b7412991-f128-41c1-f829-910b30052b58"
      },
      "execution_count": null,
      "outputs": [
        {
          "output_type": "stream",
          "name": "stdout",
          "text": [
            "Attendance percentage: 16.666666666666664%\n",
            "Student cannot sit in exam\n"
          ]
        }
      ]
    },
    {
      "cell_type": "code",
      "source": [
        "salary = float(input(\"Enter salary: \"))\n",
        "years = int(input(\"Enter years of service: \"))\n",
        "if years > 10:\n",
        "    bonus = salary * 0.10\n",
        "elif years >= 6:\n",
        "    bonus = salary * 0.08\n",
        "else:\n",
        "    bonus = salary * 0.05\n",
        "print(f\"Net bonus amount: Rs {bonus}\")"
      ],
      "metadata": {
        "colab": {
          "base_uri": "https://localhost:8080/"
        },
        "id": "cNilDjrQvdaH",
        "outputId": "7a6145cd-fbd8-4228-8b2b-fe3e9624d2a5"
      },
      "execution_count": null,
      "outputs": [
        {
          "output_type": "stream",
          "name": "stdout",
          "text": [
            "Enter salary: 200000\n",
            "Enter years of service: 20\n",
            "Net bonus amount: Rs 20000.0\n"
          ]
        }
      ]
    },
    {
      "cell_type": "code",
      "source": [
        "days = int(input(\"Enter number of days: \"))\n",
        "if days <= 5:\n",
        "    charge = days * 2\n",
        "elif days <= 10:\n",
        "    charge = (5 * 2) + (days - 5) * 3\n",
        "elif days <= 15:\n",
        "    charge = (5 * 2) + (5 * 3) + (days - 10) * 4\n",
        "else:\n",
        "    charge = (5 * 2) + (5 * 3) + (5 * 4) + (days - 15) * 5\n",
        "print(f\"Total charge: Rs {charge}\")"
      ],
      "metadata": {
        "colab": {
          "base_uri": "https://localhost:8080/"
        },
        "id": "J5ccD_FwvmvL",
        "outputId": "775081eb-5ccd-4482-dd62-bf99310a72e8"
      },
      "execution_count": null,
      "outputs": [
        {
          "output_type": "stream",
          "name": "stdout",
          "text": [
            "Enter number of days: 7\n",
            "Total charge: Rs 16\n"
          ]
        }
      ]
    },
    {
      "cell_type": "code",
      "source": [
        "num1 = float(input(\"Enter first number: \"))\n",
        "num2 = float(input(\"Enter second number: \"))\n",
        "op = input(\"Enter operator (+, -, *, /): \")\n",
        "if op == '+':\n",
        "    print(num1 + num2)\n",
        "elif op == '-':\n",
        "    print(num1 - num2)\n",
        "elif op == '*':\n",
        "    print(num1 * num2)\n",
        "elif op == '/':\n",
        "    print(num1 / num2 if num2 != 0 else \"Cannot divide by zero\")\n",
        "else:\n",
        "    print(\"Invalid operator\")"
      ],
      "metadata": {
        "colab": {
          "base_uri": "https://localhost:8080/"
        },
        "id": "KOMf7sFbvpr-",
        "outputId": "9a01d7b8-0a8d-48aa-f3ae-9eda03fb6da8"
      },
      "execution_count": null,
      "outputs": [
        {
          "output_type": "stream",
          "name": "stdout",
          "text": [
            "Enter first number: 123\n",
            "Enter second number: 234\n",
            "Enter operator (+, -, *, /): /\n",
            "0.5256410256410257\n"
          ]
        }
      ]
    },
    {
      "cell_type": "code",
      "source": [
        "age1 = int(input(\"Enter age of first person: \"))\n",
        "age2 = int(input(\"Enter age of second person: \"))\n",
        "age3 = int(input(\"Enter age of third person: \"))\n",
        "oldest = max(age1, age2, age3)\n",
        "print(f\"The oldest person is {oldest} years old\")"
      ],
      "metadata": {
        "colab": {
          "base_uri": "https://localhost:8080/"
        },
        "id": "PunLRxNpvwOZ",
        "outputId": "df89df8b-77ed-4989-8d4b-49c9bb72272d"
      },
      "execution_count": null,
      "outputs": [
        {
          "output_type": "stream",
          "name": "stdout",
          "text": [
            "Enter age of first person: 45\n",
            "Enter age of second person: 56\n",
            "Enter age of third person: 78\n",
            "The oldest person is 78 years old\n"
          ]
        }
      ]
    },
    {
      "cell_type": "code",
      "source": [
        "cost = float(input(\"Enter cost price of bike: \"))\n",
        "if cost > 100000:\n",
        "    tax = cost * 0.15\n",
        "elif cost > 50000:\n",
        "    tax = cost * 0.10\n",
        "else:\n",
        "    tax = cost * 0.05\n",
        "print(f\"Road tax to be paid: Rs {tax}\")"
      ],
      "metadata": {
        "colab": {
          "base_uri": "https://localhost:8080/"
        },
        "id": "I6KQqENXv2MX",
        "outputId": "3c2151f1-ce59-4742-859c-08c669c29bee"
      },
      "execution_count": null,
      "outputs": [
        {
          "output_type": "stream",
          "name": "stdout",
          "text": [
            "Enter cost price of bike: 400000\n",
            "Road tax to be paid: Rs 60000.0\n"
          ]
        }
      ]
    },
    {
      "cell_type": "code",
      "source": [
        "a = float(input(\"Enter first side: \"))\n",
        "b = float(input(\"Enter second side: \"))\n",
        "c = float(input(\"Enter third side: \"))\n",
        "if (a + b > c) and (b + c > a) and (a + c > b):\n",
        "    print(\"Triangle is possible\")\n",
        "else:\n",
        "    print(\"Triangle is not possible\")"
      ],
      "metadata": {
        "colab": {
          "base_uri": "https://localhost:8080/"
        },
        "id": "ghf0wcdGv4x-",
        "outputId": "631bff96-fa53-4fc1-b57b-1acca3265919"
      },
      "execution_count": null,
      "outputs": [
        {
          "output_type": "stream",
          "name": "stdout",
          "text": [
            "Enter first side: 20\n",
            "Enter second side: 60\n",
            "Enter third side: 100\n",
            "Triangle is not possible\n"
          ]
        }
      ]
    },
    {
      "cell_type": "markdown",
      "source": [],
      "metadata": {
        "id": "uvgmzLu_u7v9"
      }
    }
  ]
}