{
  "nbformat": 4,
  "nbformat_minor": 0,
  "metadata": {
    "colab": {
      "provenance": []
    },
    "kernelspec": {
      "name": "python3",
      "display_name": "Python 3"
    },
    "language_info": {
      "name": "python"
    }
  },
  "cells": [
    {
      "cell_type": "markdown",
      "source": [
        "1)Create a biodata by  getting details from user input.\n",
        "2)Write a program which does the following:\n",
        "Find out and display the area of a rectangle of sides 45 and 76 respectively.\n",
        "Declare variables length, width and area and assign the relevant values to them.\n",
        "Print the area of the rectangle.\n",
        "\n",
        "3)Write a program which does the following:\n",
        "Find the area of a circle whose radius is 8.9. Take pi = 3.14.\n",
        "Declare variables radius, pi and area and assign the relevant values to them.\n",
        "Formula for area of a circle is Pi * radius * radius.\n",
        "\n",
        "4)Write a program which does the following:\n",
        "Declare two string variables a & b.\n",
        "Assign the values \"python\" to a and \"easy\" to b.\n",
        "Display the variables in a single line without any space between them.\n",
        "\n",
        "5)Area and Perimeter of Square\n",
        "Write a program to find the area and perimeter of square whose side length is 4.5.\n",
        "On the first line, print square's area and on the second line, its perimeter.\n",
        "\n",
        "6)What is the output if amount = 50, weight = 2?\n",
        "\n",
        "If the total is ₹100 and the discount is 20%, how much will be paid?"
      ],
      "metadata": {
        "id": "Qp2NKVAVG-GQ"
      }
    },
    {
      "cell_type": "code",
      "execution_count": null,
      "metadata": {
        "colab": {
          "base_uri": "https://localhost:8080/"
        },
        "id": "Kh0-uhzVXIm-",
        "outputId": "bfa2b44c-8b5a-46d2-86ed-ce6bb8c8b641",
        "collapsed": true
      },
      "outputs": [
        {
          "output_type": "stream",
          "name": "stdout",
          "text": [
            "Enter your name: kalee\n",
            "Enter your age: fkaf\n",
            "Enter your gender: male\n",
            "Enter your address: feaf\n",
            "Enter your email: dfaf\n",
            "\n",
            "---------- Biodata ----------\n",
            "Name:     kalee\n",
            "Age:      fkaf\n",
            "Gender:   male\n",
            "Address:  feaf\n",
            "Email:    dfaf\n"
          ]
        }
      ],
      "source": [
        "\n",
        "name = input(\"Enter your name: \")\n",
        "age = input(\"Enter your age: \")\n",
        "gender = input(\"Enter your gender: \")\n",
        "address = input(\"Enter your address: \")\n",
        "email = input(\"Enter your email: \")\n",
        "print(\"\\n---------- Biodata ----------\")\n",
        "print(\"Name:    \", name)\n",
        "print(\"Age:     \", age)\n",
        "print(\"Gender:  \", gender)\n",
        "print(\"Address: \", address)\n",
        "print(\"Email:   \", email)"
      ]
    },
    {
      "cell_type": "code",
      "source": [
        "length = float(input(\"length\"))\n",
        "width = float(input(\"width\"))\n",
        "area_rectangle = length * width\n",
        "print(\"\\nThe area of the rectangle with length\", length, \"and width\", width, \"is:\", area_rectangle)"
      ],
      "metadata": {
        "colab": {
          "base_uri": "https://localhost:8080/"
        },
        "id": "kaGZyRaxX2e_",
        "outputId": "70457cd5-8cde-400d-db0e-e88fe037ca05",
        "collapsed": true
      },
      "execution_count": null,
      "outputs": [
        {
          "output_type": "stream",
          "name": "stdout",
          "text": [
            "length45\n",
            "width465\n",
            "\n",
            "The area of the rectangle with length 45.0 and width 465.0 is: 20925.0\n"
          ]
        }
      ]
    },
    {
      "cell_type": "code",
      "source": [
        "radius = float(input(\"radius\"))\n",
        "pi = 3.14\n",
        "area_circle = pi * radius * radius\n",
        "print(\"\\nThe area of the circle with radius\", radius, \"is:\", area_circle)"
      ],
      "metadata": {
        "colab": {
          "base_uri": "https://localhost:8080/"
        },
        "id": "XQjaAib1Yewr",
        "outputId": "e7332521-f151-4e94-d63f-e2410f0e6482",
        "collapsed": true
      },
      "execution_count": null,
      "outputs": [
        {
          "output_type": "stream",
          "name": "stdout",
          "text": [
            "radius254\n",
            "\n",
            "The area of the circle with radius 254.0 is: 202580.24000000002\n"
          ]
        }
      ]
    },
    {
      "cell_type": "markdown",
      "source": [],
      "metadata": {
        "id": "lhBsgNAn-AQQ"
      }
    },
    {
      "cell_type": "code",
      "source": [
        "a = \"python\"\n",
        "b = \"easy\"\n",
        "print(a + b)\n"
      ],
      "metadata": {
        "colab": {
          "base_uri": "https://localhost:8080/"
        },
        "id": "nvBT1HwzSTAj",
        "outputId": "449c4b7e-0b59-4d48-d5be-6b9a693b598a",
        "collapsed": true
      },
      "execution_count": null,
      "outputs": [
        {
          "output_type": "stream",
          "name": "stdout",
          "text": [
            "pythoneasy\n"
          ]
        }
      ]
    },
    {
      "cell_type": "code",
      "source": [
        "side = 4.5\n",
        "area = side * side\n",
        "perimeter = 4 * side\n",
        "print(\"Area of square:\", area)\n",
        "print(\"Perimeter of square:\",perimeter)\n"
      ],
      "metadata": {
        "colab": {
          "base_uri": "https://localhost:8080/"
        },
        "id": "H1_JqpizSmSP",
        "outputId": "2a7c5ffd-105c-4597-d179-105ecd73b512",
        "collapsed": true
      },
      "execution_count": null,
      "outputs": [
        {
          "output_type": "stream",
          "name": "stdout",
          "text": [
            "Area of square: 20.25\n",
            "Perimeter of square: 18.0\n"
          ]
        }
      ]
    },
    {
      "cell_type": "code",
      "source": [
        "amount = 100\n",
        "discount = 20\n",
        "discount_amount = (discount / 100) * amount\n",
        "final_price = amount - discount_amount\n",
        "print(\"Amount to be paid after discount: ₹\",final_price)\n"
      ],
      "metadata": {
        "colab": {
          "base_uri": "https://localhost:8080/"
        },
        "id": "qjL-oyz0S8Zv",
        "outputId": "a8295622-fa9c-4be8-92a6-94bdfd76367e",
        "collapsed": true
      },
      "execution_count": null,
      "outputs": [
        {
          "output_type": "stream",
          "name": "stdout",
          "text": [
            "Amount to be paid after discount: ₹ 80.0\n"
          ]
        }
      ]
    }
  ]
}